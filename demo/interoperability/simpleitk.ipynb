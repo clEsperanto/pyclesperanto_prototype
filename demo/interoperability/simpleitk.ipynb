{
 "cells": [
  {
   "cell_type": "code",
   "execution_count": 1,
   "id": "af1c22ee",
   "metadata": {
    "lines_to_next_cell": 2
   },
   "outputs": [],
   "source": [
    "from skimage.io import imread\n",
    "import pyclesperanto_prototype as cle  # version 0.19.3\n",
    "import napari\n",
    "from napari_simpleitk_image_processing import label_statistics\n",
    "from skimage.data import cells3d"
   ]
  },
  {
   "cell_type": "markdown",
   "id": "65702d60",
   "metadata": {},
   "source": [
    "## Loading 'nuclei'\n",
    "Manually loading the nuclei data from napari ui via Open example->napari->Cells(3d+2ch)."
   ]
  },
  {
   "cell_type": "code",
   "execution_count": 2,
   "id": "05700e5b",
   "metadata": {},
   "outputs": [],
   "source": [
    "image0_n = cells3d()[:,1]\n",
    "\n",
    "viewer = napari.Viewer()\n"
   ]
  },
  {
   "cell_type": "markdown",
   "id": "b0fe7d01",
   "metadata": {},
   "source": [
    "## voronoi otsu labeling"
   ]
  },
  {
   "cell_type": "code",
   "execution_count": 4,
   "id": "c86457ba",
   "metadata": {},
   "outputs": [
    {
     "data": {
      "text/html": [
       "<table>\n",
       "<tr>\n",
       "<td>\n",
       "<img src=\"data:image/png;base64,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\"></img>\n",
       "</td>\n",
       "<td style=\"text-align: center; vertical-align: top;\">\n",
       "<b><a href=\"https://github.com/clEsperanto/pyclesperanto_prototype\" target=\"_blank\">cle._</a> image</b><br/>\n",
       "<table>\n",
       "<tr><td>shape</td><td>(60,&nbsp;256,&nbsp;256)</td></tr>\n",
       "<tr><td>dtype</td><td>uint32</td></tr>\n",
       "<tr><td>size</td><td>15.0 MB</td></tr>\n",
       "<tr><td>min</td><td>0.0</td></tr><tr><td>max</td><td>28.0</td></tr>\n",
       "</table>\n",
       "\n",
       "</td>\n",
       "</tr>\n",
       "</table>"
      ],
      "text/plain": [
       "cl.OCLArray([[[0, 0, 0, ..., 0, 0, 0],\n",
       "        [0, 0, 0, ..., 0, 0, 0],\n",
       "        [0, 0, 0, ..., 0, 0, 0],\n",
       "        ...,\n",
       "        [0, 0, 0, ..., 0, 0, 0],\n",
       "        [0, 0, 0, ..., 0, 0, 0],\n",
       "        [0, 0, 0, ..., 0, 0, 0]],\n",
       "\n",
       "       [[0, 0, 0, ..., 0, 0, 0],\n",
       "        [0, 0, 0, ..., 0, 0, 0],\n",
       "        [0, 0, 0, ..., 0, 0, 0],\n",
       "        ...,\n",
       "        [0, 0, 0, ..., 0, 0, 0],\n",
       "        [0, 0, 0, ..., 0, 0, 0],\n",
       "        [0, 0, 0, ..., 0, 0, 0]],\n",
       "\n",
       "       [[0, 0, 0, ..., 0, 0, 0],\n",
       "        [0, 0, 0, ..., 0, 0, 0],\n",
       "        [0, 0, 0, ..., 0, 0, 0],\n",
       "        ...,\n",
       "        [0, 0, 0, ..., 0, 0, 0],\n",
       "        [0, 0, 0, ..., 0, 0, 0],\n",
       "        [0, 0, 0, ..., 0, 0, 0]],\n",
       "\n",
       "       ...,\n",
       "\n",
       "       [[0, 0, 0, ..., 0, 0, 0],\n",
       "        [0, 0, 0, ..., 0, 0, 0],\n",
       "        [0, 0, 0, ..., 0, 0, 0],\n",
       "        ...,\n",
       "        [0, 0, 0, ..., 0, 0, 0],\n",
       "        [0, 0, 0, ..., 0, 0, 0],\n",
       "        [0, 0, 0, ..., 0, 0, 0]],\n",
       "\n",
       "       [[0, 0, 0, ..., 0, 0, 0],\n",
       "        [0, 0, 0, ..., 0, 0, 0],\n",
       "        [0, 0, 0, ..., 0, 0, 0],\n",
       "        ...,\n",
       "        [0, 0, 0, ..., 0, 0, 0],\n",
       "        [0, 0, 0, ..., 0, 0, 0],\n",
       "        [0, 0, 0, ..., 0, 0, 0]],\n",
       "\n",
       "       [[0, 0, 0, ..., 0, 0, 0],\n",
       "        [0, 0, 0, ..., 0, 0, 0],\n",
       "        [0, 0, 0, ..., 0, 0, 0],\n",
       "        ...,\n",
       "        [0, 0, 0, ..., 0, 0, 0],\n",
       "        [0, 0, 0, ..., 0, 0, 0],\n",
       "        [0, 0, 0, ..., 0, 0, 0]]], dtype=uint32)"
      ]
     },
     "execution_count": 4,
     "metadata": {},
     "output_type": "execute_result"
    }
   ],
   "source": [
    "image1_vol = cle.voronoi_otsu_labeling(image0_n, None, 7.0, 2.0)\n",
    "image1_vol"
   ]
  },
  {
   "cell_type": "code",
   "execution_count": 5,
   "id": "b045845a-ac60-4c5d-aa37-7d6758e850cf",
   "metadata": {},
   "outputs": [],
   "source": [
    "statistics = label_statistics(image0_n, image1_vol, \n",
    "                              intensity=True, \n",
    "                              size=True, \n",
    "                              shape=True, \n",
    "                              perimeter=False, \n",
    "                              position=False,\n",
    "                              moments=False\n",
    "                             )"
   ]
  },
  {
   "cell_type": "code",
   "execution_count": null,
   "id": "5e95dcd1-8a6b-4cf2-90b5-303e34581be8",
   "metadata": {},
   "outputs": [],
   "source": []
  }
 ],
 "metadata": {
  "jupytext": {
   "cell_metadata_filter": "-all",
   "main_language": "python",
   "notebook_metadata_filter": "-all"
  },
  "kernelspec": {
   "display_name": "Python 3 (ipykernel)",
   "language": "python",
   "name": "python3"
  },
  "language_info": {
   "codemirror_mode": {
    "name": "ipython",
    "version": 3
   },
   "file_extension": ".py",
   "mimetype": "text/x-python",
   "name": "python",
   "nbconvert_exporter": "python",
   "pygments_lexer": "ipython3",
   "version": "3.9.15"
  },
  "widgets": {
   "application/vnd.jupyter.widget-state+json": {
    "state": {},
    "version_major": 2,
    "version_minor": 0
   }
  }
 },
 "nbformat": 4,
 "nbformat_minor": 5
}
