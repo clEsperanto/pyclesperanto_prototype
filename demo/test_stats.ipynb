{
 "cells": [
  {
   "cell_type": "code",
   "execution_count": 1,
   "id": "580c973d-4805-4f07-bc8c-1ddcea4dcf80",
   "metadata": {},
   "outputs": [
    {
     "name": "stdout",
     "output_type": "stream",
     "text": [
      "label_statistics_image\n",
      "z 0\n",
      "[[ 0.  0.]\n",
      " [ 0.  0.]\n",
      " [ 0.  0.]\n",
      " [ 0.  2.]\n",
      " [ 0.  2.]\n",
      " [ 0.  0.]\n",
      " [ 0.  1.]\n",
      " [ 0. 13.]]\n",
      "label_statistics_stack\n",
      "z 0\n",
      "[[ 0.        2.      ]\n",
      " [ 0.        6.812559]\n",
      " [ 0.       15.142181]\n",
      " [ 0.       11.010469]\n",
      " [ 0.        4.472136]]\n",
      "z 1\n",
      "[[0.        2.       ]\n",
      " [0.        3.8284273]\n",
      " [0.        6.       ]\n",
      " [0.        3.8284273]\n",
      " [0.        2.       ]]\n",
      "z 2\n",
      "[[0. 0.]\n",
      " [0. 0.]\n",
      " [0. 0.]\n",
      " [0. 0.]\n",
      " [0. 0.]]\n",
      "z 3\n",
      "[[0. 1.]\n",
      " [0. 3.]\n",
      " [0. 5.]\n",
      " [0. 3.]\n",
      " [0. 1.]]\n",
      "z 4\n",
      "[[0.        2.       ]\n",
      " [0.        3.1622777]\n",
      " [0.        4.472136 ]\n",
      " [0.        4.2426405]\n",
      " [0.        4.472136 ]]\n",
      "z 5\n",
      "[[0.        2.       ]\n",
      " [0.        1.4142135]\n",
      " [0.        2.       ]\n",
      " [0.        1.4142135]\n",
      " [0.        2.       ]]\n"
     ]
    },
    {
     "data": {
      "text/plain": [
       "{'label': array([1]),\n",
       " 'original_label': array([1]),\n",
       " 'bbox_min_x': array([0.], dtype=float32),\n",
       " 'bbox_min_y': array([0.], dtype=float32),\n",
       " 'bbox_min_z': array([0.], dtype=float32),\n",
       " 'bbox_max_x': array([4.], dtype=float32),\n",
       " 'bbox_max_y': array([4.], dtype=float32),\n",
       " 'bbox_max_z': array([0.], dtype=float32),\n",
       " 'bbox_width': array([5.], dtype=float32),\n",
       " 'bbox_height': array([5.], dtype=float32),\n",
       " 'bbox_depth': array([1.], dtype=float32),\n",
       " 'min_intensity': array([1.], dtype=float32),\n",
       " 'max_intensity': array([1.], dtype=float32),\n",
       " 'sum_intensity': array([13.], dtype=float32),\n",
       " 'area': array([13.], dtype=float32),\n",
       " 'mean_intensity': array([1.], dtype=float32),\n",
       " 'sum_intensity_times_x': array([26.], dtype=float32),\n",
       " 'mass_center_x': array([2.], dtype=float32),\n",
       " 'sum_intensity_times_y': array([26.], dtype=float32),\n",
       " 'mass_center_y': array([2.], dtype=float32),\n",
       " 'sum_intensity_times_z': array([0.], dtype=float32),\n",
       " 'mass_center_z': array([0.], dtype=float32),\n",
       " 'sum_x': array([26.], dtype=float32),\n",
       " 'centroid_x': array([2.], dtype=float32),\n",
       " 'sum_y': array([26.], dtype=float32),\n",
       " 'centroid_y': array([2.], dtype=float32),\n",
       " 'sum_z': array([0.], dtype=float32),\n",
       " 'centroid_z': array([0.], dtype=float32),\n",
       " 'sum_distance_to_centroid': array([39.437347], dtype=float32),\n",
       " 'mean_distance_to_centroid': array([3.033642], dtype=float32),\n",
       " 'sum_distance_to_mass_center': array([17.656855], dtype=float32),\n",
       " 'mean_distance_to_mass_center': array([1.3582196], dtype=float32),\n",
       " 'standard_deviation_intensity': array([0.], dtype=float32),\n",
       " 'max_distance_to_centroid': array([4.472136], dtype=float32),\n",
       " 'max_distance_to_mass_center': array([2.], dtype=float32),\n",
       " 'mean_max_distance_to_centroid_ratio': array([1.4741806], dtype=float32),\n",
       " 'mean_max_distance_to_mass_center_ratio': array([1.472516], dtype=float32)}"
      ]
     },
     "execution_count": 1,
     "metadata": {},
     "output_type": "execute_result"
    }
   ],
   "source": [
    "import pyclesperanto_prototype as cle\n",
    "\n",
    "image = [[0, 0, 1, 0, 0], \n",
    "         [0, 1, 1, 1, 0], \n",
    "         [1, 1, 1, 1, 1], \n",
    "         [0, 1, 1, 1, 0], \n",
    "         [0, 0, 1, 0, 0]]\n",
    "\n",
    "cle.statistics_of_labelled_pixels(image, image)"
   ]
  },
  {
   "cell_type": "code",
   "execution_count": null,
   "id": "dfd22390-22a3-491b-aca1-6324fb0b1b35",
   "metadata": {},
   "outputs": [],
   "source": []
  },
  {
   "cell_type": "code",
   "execution_count": null,
   "id": "4f013634-add4-4edc-81c0-905643d426fc",
   "metadata": {},
   "outputs": [],
   "source": []
  },
  {
   "cell_type": "code",
   "execution_count": null,
   "id": "20b9981d-0165-4b2a-be23-4b5bdb5ac831",
   "metadata": {},
   "outputs": [],
   "source": []
  }
 ],
 "metadata": {
  "kernelspec": {
   "display_name": "Python 3 (ipykernel)",
   "language": "python",
   "name": "python3"
  },
  "language_info": {
   "codemirror_mode": {
    "name": "ipython",
    "version": 3
   },
   "file_extension": ".py",
   "mimetype": "text/x-python",
   "name": "python",
   "nbconvert_exporter": "python",
   "pygments_lexer": "ipython3",
   "version": "3.11.9"
  }
 },
 "nbformat": 4,
 "nbformat_minor": 5
}
