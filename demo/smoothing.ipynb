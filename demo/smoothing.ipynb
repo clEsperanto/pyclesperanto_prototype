{
 "cells": [
  {
   "cell_type": "code",
   "execution_count": 1,
   "id": "eb73de20-5c0d-4cae-836c-ee3e240cad68",
   "metadata": {},
   "outputs": [],
   "source": [
    "import pyclesperanto_prototype as cle\n",
    "import numpy as np\n",
    "from skimage.segmentation.morphsnakes import sup_inf, inf_sup"
   ]
  },
  {
   "cell_type": "markdown",
   "id": "ff3849b7",
   "metadata": {},
   "source": [
    "### 2D test"
   ]
  },
  {
   "cell_type": "code",
   "execution_count": 2,
   "id": "abc572bf",
   "metadata": {},
   "outputs": [
    {
     "data": {
      "image/png": "[encoded data removed]",
      "text/plain": [
       "<Figure size 640x480 with 1 Axes>"
      ]
     },
     "metadata": {},
     "output_type": "display_data"
    }
   ],
   "source": [
    "array = np.zeros((100, 85), dtype=np.uint8)\n",
    "array[15:85, 15:85] = 1\n",
    "array[35:65, 35:65] = 0\n",
    "cle.imshow(array)"
   ]
  },
  {
   "cell_type": "code",
   "execution_count": 3,
   "id": "560a1217",
   "metadata": {},
   "outputs": [
    {
     "name": "stdout",
     "output_type": "stream",
     "text": [
      "Pyclesperanto\n"
     ]
    },
    {
     "data": {
      "image/png": "[encoded data removed]",
      "text/plain": [
       "<Figure size 640x480 with 1 Axes>"
      ]
     },
     "metadata": {},
     "output_type": "display_data"
    }
   ],
   "source": [
    "print(\"Pyclesperanto\")\n",
    "array_smooth = cle.superior_inferior(cle.inferior_superior(array))\n",
    "cle.imshow(array_smooth)\n"
   ]
  },
  {
   "cell_type": "code",
   "execution_count": 4,
   "id": "480d0014",
   "metadata": {},
   "outputs": [
    {
     "name": "stdout",
     "output_type": "stream",
     "text": [
      "Scikit-image\n"
     ]
    },
    {
     "data": {
      "image/png": "[encoded data removed]",
      "text/plain": [
       "<Figure size 640x480 with 1 Axes>"
      ]
     },
     "metadata": {},
     "output_type": "display_data"
    }
   ],
   "source": [
    "print(\"Scikit-image\")\n",
    "array_smooth_ref = sup_inf(inf_sup(array))\n",
    "cle.imshow(array_smooth_ref)"
   ]
  },
  {
   "cell_type": "markdown",
   "id": "48e384da",
   "metadata": {},
   "source": [
    "### 3D test"
   ]
  },
  {
   "cell_type": "code",
   "execution_count": 5,
   "id": "d418a958",
   "metadata": {},
   "outputs": [
    {
     "name": "stdout",
     "output_type": "stream",
     "text": [
      "[[[0. 0. 0. 0. 0.]\n",
      "  [0. 0. 0. 0. 0.]\n",
      "  [0. 0. 0. 0. 0.]\n",
      "  [0. 0. 0. 0. 0.]\n",
      "  [0. 0. 0. 0. 0.]]\n",
      "\n",
      " [[0. 0. 0. 0. 0.]\n",
      "  [0. 1. 1. 1. 0.]\n",
      "  [0. 1. 1. 1. 0.]\n",
      "  [0. 1. 1. 1. 0.]\n",
      "  [0. 0. 0. 0. 0.]]\n",
      "\n",
      " [[0. 0. 0. 0. 0.]\n",
      "  [0. 1. 1. 1. 0.]\n",
      "  [0. 1. 0. 1. 0.]\n",
      "  [0. 1. 1. 1. 0.]\n",
      "  [0. 0. 0. 0. 0.]]\n",
      "\n",
      " [[0. 0. 0. 0. 0.]\n",
      "  [0. 1. 1. 1. 0.]\n",
      "  [0. 1. 1. 1. 0.]\n",
      "  [0. 1. 1. 1. 0.]\n",
      "  [0. 0. 0. 0. 0.]]\n",
      "\n",
      " [[0. 0. 0. 0. 0.]\n",
      "  [0. 0. 0. 0. 0.]\n",
      "  [0. 0. 0. 0. 0.]\n",
      "  [0. 0. 0. 0. 0.]\n",
      "  [0. 0. 0. 0. 0.]]]\n"
     ]
    }
   ],
   "source": [
    "array3d = np.zeros((5, 5, 5))\n",
    "array3d[1:4, 1:4, 1:4] = 1\n",
    "array3d[2, 2, 2] = 0\n",
    "print(array3d)\n"
   ]
  },
  {
   "cell_type": "code",
   "execution_count": 6,
   "id": "3d2b5f2f",
   "metadata": {},
   "outputs": [
    {
     "name": "stdout",
     "output_type": "stream",
     "text": [
      "Pyclesperanto\n",
      "\n",
      "[[[0 0 0 0 0]\n",
      "  [0 0 0 0 0]\n",
      "  [0 0 0 0 0]\n",
      "  [0 0 0 0 0]\n",
      "  [0 0 0 0 0]]\n",
      "\n",
      " [[0 0 0 0 0]\n",
      "  [0 0 0 0 0]\n",
      "  [0 0 1 0 0]\n",
      "  [0 0 0 0 0]\n",
      "  [0 0 0 0 0]]\n",
      "\n",
      " [[0 0 0 0 0]\n",
      "  [0 0 1 0 0]\n",
      "  [0 1 1 1 0]\n",
      "  [0 0 1 0 0]\n",
      "  [0 0 0 0 0]]\n",
      "\n",
      " [[0 0 0 0 0]\n",
      "  [0 0 0 0 0]\n",
      "  [0 0 1 0 0]\n",
      "  [0 0 0 0 0]\n",
      "  [0 0 0 0 0]]\n",
      "\n",
      " [[0 0 0 0 0]\n",
      "  [0 0 0 0 0]\n",
      "  [0 0 0 0 0]\n",
      "  [0 0 0 0 0]\n",
      "  [0 0 0 0 0]]]\n"
     ]
    }
   ],
   "source": [
    "print(\"Pyclesperanto\\n\")\n",
    "print(cle.superior_inferior(cle.inferior_superior(array3d)))\n"
   ]
  },
  {
   "cell_type": "code",
   "execution_count": 7,
   "id": "9c25d0db",
   "metadata": {},
   "outputs": [
    {
     "name": "stdout",
     "output_type": "stream",
     "text": [
      "Scikit-image\n",
      "\n",
      "[[[0 0 0 0 0]\n",
      "  [0 0 0 0 0]\n",
      "  [0 0 0 0 0]\n",
      "  [0 0 0 0 0]\n",
      "  [0 0 0 0 0]]\n",
      "\n",
      " [[0 0 0 0 0]\n",
      "  [0 0 0 0 0]\n",
      "  [0 0 1 0 0]\n",
      "  [0 0 0 0 0]\n",
      "  [0 0 0 0 0]]\n",
      "\n",
      " [[0 0 0 0 0]\n",
      "  [0 0 1 0 0]\n",
      "  [0 1 1 1 0]\n",
      "  [0 0 1 0 0]\n",
      "  [0 0 0 0 0]]\n",
      "\n",
      " [[0 0 0 0 0]\n",
      "  [0 0 0 0 0]\n",
      "  [0 0 1 0 0]\n",
      "  [0 0 0 0 0]\n",
      "  [0 0 0 0 0]]\n",
      "\n",
      " [[0 0 0 0 0]\n",
      "  [0 0 0 0 0]\n",
      "  [0 0 0 0 0]\n",
      "  [0 0 0 0 0]\n",
      "  [0 0 0 0 0]]]\n"
     ]
    }
   ],
   "source": [
    "print(\"Scikit-image\\n\")\n",
    "print(sup_inf(inf_sup(array3d)))"
   ]
  },
  {
   "cell_type": "code",
   "execution_count": 8,
   "id": "9d4e616a",
   "metadata": {},
   "outputs": [
    {
     "name": "stdout",
     "output_type": "stream",
     "text": [
      "[[[0. 0. 0. 0. 0.]\n",
      "  [0. 1. 1. 1. 0.]\n",
      "  [0. 1. 1. 1. 0.]\n",
      "  [0. 1. 1. 1. 0.]\n",
      "  [0. 0. 0. 0. 0.]]\n",
      "\n",
      " [[0. 0. 0. 0. 0.]\n",
      "  [0. 1. 1. 1. 0.]\n",
      "  [0. 1. 0. 1. 0.]\n",
      "  [0. 1. 1. 1. 0.]\n",
      "  [0. 0. 0. 0. 0.]]\n",
      "\n",
      " [[0. 0. 0. 0. 0.]\n",
      "  [0. 1. 1. 1. 0.]\n",
      "  [0. 1. 1. 1. 0.]\n",
      "  [0. 1. 1. 1. 0.]\n",
      "  [0. 0. 0. 0. 0.]]]\n"
     ]
    }
   ],
   "source": [
    "array3d = np.zeros((3, 5, 5))\n",
    "array3d[:, 1:4, 1:4] = 1\n",
    "array3d[1, 2, 2] = 0\n",
    "print(array3d)"
   ]
  },
  {
   "cell_type": "code",
   "execution_count": 9,
   "id": "90c85d91",
   "metadata": {},
   "outputs": [
    {
     "name": "stdout",
     "output_type": "stream",
     "text": [
      "Pyclesperanto\n",
      "\n",
      "[[[0 0 0 0 0]\n",
      "  [0 0 0 0 0]\n",
      "  [0 0 1 0 0]\n",
      "  [0 0 0 0 0]\n",
      "  [0 0 0 0 0]]\n",
      "\n",
      " [[0 0 0 0 0]\n",
      "  [0 0 1 0 0]\n",
      "  [0 1 1 1 0]\n",
      "  [0 0 1 0 0]\n",
      "  [0 0 0 0 0]]\n",
      "\n",
      " [[0 0 0 0 0]\n",
      "  [0 0 0 0 0]\n",
      "  [0 0 1 0 0]\n",
      "  [0 0 0 0 0]\n",
      "  [0 0 0 0 0]]]\n"
     ]
    }
   ],
   "source": [
    "print(\"Pyclesperanto\\n\")\n",
    "print(cle.superior_inferior(cle.inferior_superior(array3d)))"
   ]
  },
  {
   "cell_type": "code",
   "execution_count": 10,
   "id": "226f18fe",
   "metadata": {},
   "outputs": [
    {
     "name": "stdout",
     "output_type": "stream",
     "text": [
      "Scikit-image\n",
      "\n",
      "[[[0 0 0 0 0]\n",
      "  [0 0 0 0 0]\n",
      "  [0 0 1 0 0]\n",
      "  [0 0 0 0 0]\n",
      "  [0 0 0 0 0]]\n",
      "\n",
      " [[0 0 0 0 0]\n",
      "  [0 0 1 0 0]\n",
      "  [0 1 1 1 0]\n",
      "  [0 0 1 0 0]\n",
      "  [0 0 0 0 0]]\n",
      "\n",
      " [[0 0 0 0 0]\n",
      "  [0 0 0 0 0]\n",
      "  [0 0 1 0 0]\n",
      "  [0 0 0 0 0]\n",
      "  [0 0 0 0 0]]]\n"
     ]
    }
   ],
   "source": [
    "print(\"Scikit-image\\n\")\n",
    "print(sup_inf(inf_sup(array3d)))"
   ]
  },
  {
   "cell_type": "code",
   "execution_count": null,
   "id": "f0b63e2d",
   "metadata": {},
   "outputs": [],
   "source": []
  }
 ],
 "metadata": {
  "kernelspec": {
   "display_name": "Python 3 (ipykernel)",
   "language": "python",
   "name": "python3"
  },
  "language_info": {
   "codemirror_mode": {
    "name": "ipython",
    "version": 3
   },
   "file_extension": ".py",
   "mimetype": "text/x-python",
   "name": "python",
   "nbconvert_exporter": "python",
   "pygments_lexer": "ipython3",
   "version": "3.9.15"
  },
  "vscode": {
   "interpreter": {
    "hash": "a77a85fb3f9351cc5c809eebe289f69647bd4ccab6f00793c7ad5e93a0cdb95e"
   }
  }
 },
 "nbformat": 4,
 "nbformat_minor": 5
}
