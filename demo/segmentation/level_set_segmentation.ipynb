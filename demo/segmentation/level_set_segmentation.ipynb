{
 "cells": [
  {
   "cell_type": "code",
   "execution_count": 1,
   "metadata": {},
   "outputs": [
    {
     "data": {
      "text/plain": [
       "<NVIDIA GeForce RTX 3050 Ti Laptop GPU on Platform: NVIDIA CUDA (1 refs)>"
      ]
     },
     "execution_count": 1,
     "metadata": {},
     "output_type": "execute_result"
    }
   ],
   "source": [
    "import numpy as np\n",
    "import pyclesperanto_prototype as cle\n",
    "from skimage.data import cells3d\n",
    "from skimage.segmentation import morphological_chan_vese\n",
    "import timeit\n",
    "import stackview\n",
    "from skimage.io import imread\n",
    "cle.select_device(\"TX\")"
   ]
  },
  {
   "cell_type": "code",
   "execution_count": 2,
   "metadata": {},
   "outputs": [],
   "source": [
    "def morphological_chan_vese_(image, num_iter, init_level_set='checkerboard',\n",
    "                            smoothing=1, lambda1=1, lambda2=1,\n",
    "                            iter_callback=lambda x: None):\n",
    "    \"\"\"Morphological Active Contours without Edges (MorphACWE)\n",
    "\n",
    "    Active contours without edges implemented with morphological operators. It\n",
    "    can be used to segment objects in images and volumes without well defined\n",
    "    borders. It is required that the inside of the object looks different on\n",
    "    average than the outside (i.e., the inner area of the object should be\n",
    "    darker or lighter than the outer area on average).\n",
    "\n",
    "    Parameters\n",
    "    ----------\n",
    "    image : (M, N) or (L, M, N) array\n",
    "        Grayscale image or volume to be segmented.\n",
    "    num_iter : uint\n",
    "        Number of num_iter to run\n",
    "    init_level_set : str, (M, N) array, or (L, M, N) array\n",
    "        Initial level set. If an array is given, it will be binarized and used\n",
    "        as the initial level set. If a string is given, it defines the method\n",
    "        to generate a reasonable initial level set with the shape of the\n",
    "        `image`. Accepted values are 'checkerboard' and 'disk'. See the\n",
    "        documentation of `checkerboard_level_set` and `disk_level_set`\n",
    "        respectively for details about how these level sets are created.\n",
    "    smoothing : uint, optional\n",
    "        Number of times the smoothing operator is applied per iteration.\n",
    "        Reasonable values are around 1-4. Larger values lead to smoother\n",
    "        segmentations.\n",
    "    lambda1 : float, optional\n",
    "        Weight parameter for the outer region. If `lambda1` is larger than\n",
    "        `lambda2`, the outer region will contain a larger range of values than\n",
    "        the inner region.\n",
    "    lambda2 : float, optional\n",
    "        Weight parameter for the inner region. If `lambda2` is larger than\n",
    "        `lambda1`, the inner region will contain a larger range of values than\n",
    "        the outer region.\n",
    "    iter_callback : function, optional\n",
    "        If given, this function is called once per iteration with the current\n",
    "        level set as the only argument. This is useful for debugging or for\n",
    "        plotting intermediate results during the evolution.\n",
    "\n",
    "    Returns\n",
    "    -------\n",
    "    out : (M, N) or (L, M, N) array\n",
    "        Final segmentation (i.e., the final level set)\n",
    "\n",
    "    See Also\n",
    "    --------\n",
    "    disk_level_set, checkerboard_level_set\n",
    "\n",
    "    Notes\n",
    "    -----\n",
    "    This is a version of the Chan-Vese algorithm that uses morphological\n",
    "    operators instead of solving a partial differential equation (PDE) for the\n",
    "    evolution of the contour. The set of morphological operators used in this\n",
    "    algorithm are proved to be infinitesimally equivalent to the Chan-Vese PDE\n",
    "    (see [1]_). However, morphological operators are do not suffer from the\n",
    "    numerical stability issues typically found in PDEs (it is not necessary to\n",
    "    find the right time step for the evolution), and are computationally\n",
    "    faster.\n",
    "\n",
    "    The algorithm and its theoretical derivation are described in [1]_.\n",
    "\n",
    "    References\n",
    "    ----------\n",
    "    .. [1] A Morphological Approach to Curvature-based Evolution of Curves and\n",
    "           Surfaces, Pablo Márquez-Neila, Luis Baumela, Luis Álvarez. In IEEE\n",
    "           Transactions on Pattern Analysis and Machine Intelligence (PAMI),\n",
    "           2014, :DOI:`10.1109/TPAMI.2013.106`\n",
    "    \"\"\"\n",
    "    from skimage.segmentation.morphsnakes import _check_input, _curvop, _init_level_set\n",
    "\n",
    "    init_level_set = _init_level_set(init_level_set, image.shape)\n",
    "\n",
    "    _check_input(image, init_level_set)\n",
    "\n",
    "    u = np.int8(init_level_set > 0)\n",
    "\n",
    "    iter_callback(u)\n",
    "\n",
    "    for _ in range(num_iter):\n",
    "\n",
    "        # inside = u > 0\n",
    "        # outside = u <= 0\n",
    "        c0 = (image * (1 - u)).sum() / float((1 - u).sum() + 1e-8)\n",
    "        c1 = (image * u).sum() / float(u.sum() + 1e-8)\n",
    "\n",
    "        # Image attachment\n",
    "        du = np.gradient(u)\n",
    "        abs_du = np.abs(du).sum(0)\n",
    "        aux = abs_du * (lambda1 * (image - c1)**2 - lambda2 * (image - c0)**2)\n",
    "\n",
    "        u[aux < 0] = 1\n",
    "        u[aux > 0] = 0\n",
    "        \n",
    "        from skimage.io import imsave\n",
    "        imsave(\"image1.tif\", u)\n",
    "\n",
    "        # Smoothing\n",
    "        for _ in range(smoothing):\n",
    "            u = _curvop(u)\n",
    "\n",
    "        iter_callback(u)\n",
    "\n",
    "    return u"
   ]
  },
  {
   "cell_type": "code",
   "execution_count": 3,
   "metadata": {},
   "outputs": [],
   "source": [
    "image = cells3d()[:,0,...]\n",
    "#cle.asarray(image)"
   ]
  },
  {
   "cell_type": "code",
   "execution_count": 4,
   "metadata": {},
   "outputs": [],
   "source": [
    "def level_set_gpu():\n",
    "    result_gpu = cle.morphological_chan_vese(image, num_iter=50, smoothing=0)\n",
    "\n",
    "def level_set_cpu():\n",
    "    result_cpu = morphological_chan_vese(image, num_iter=50, smoothing=0)"
   ]
  },
  {
   "cell_type": "code",
   "execution_count": 5,
   "metadata": {},
   "outputs": [],
   "source": [
    "#time_in_s = timeit.timeit(level_set_gpu, number=3)\n",
    "#print(\"GPU time = \", time_in_s)"
   ]
  },
  {
   "cell_type": "code",
   "execution_count": 6,
   "metadata": {},
   "outputs": [],
   "source": [
    "#time_in_s = timeit.timeit(level_set_cpu, number=3)\n",
    "#print(\"CPU time = \", time_in_s)"
   ]
  },
  {
   "cell_type": "code",
   "execution_count": 7,
   "metadata": {},
   "outputs": [],
   "source": [
    "image2d = cells3d()[30,0,...]"
   ]
  },
  {
   "cell_type": "code",
   "execution_count": 8,
   "metadata": {},
   "outputs": [],
   "source": [
    "result_gpu = cle.morphological_chan_vese(image2d, num_iter=20, smoothing=10)\n",
    "#result_gpu"
   ]
  },
  {
   "cell_type": "code",
   "execution_count": 9,
   "metadata": {},
   "outputs": [],
   "source": [
    "result_cpu = morphological_chan_vese(image2d, num_iter=20, smoothing=10)\n",
    "#stackview.insight(result_cpu)"
   ]
  },
  {
   "cell_type": "code",
   "execution_count": 10,
   "metadata": {},
   "outputs": [
    {
     "data": {
      "application/vnd.jupyter.widget-view+json": {
       "model_id": "1c5731df145d4d9da79b17efb763c1aa",
       "version_major": 2,
       "version_minor": 0
      },
      "text/plain": [
       "VBox(children=(HBox(children=(VBox(children=(ImageWidget(height=256, width=256),)),)), IntSlider(value=128, de…"
      ]
     },
     "execution_count": 10,
     "metadata": {},
     "output_type": "execute_result"
    }
   ],
   "source": [
    "stackview.curtain(result_cpu, np.asarray(result_gpu))"
   ]
  },
  {
   "cell_type": "code",
   "execution_count": 11,
   "metadata": {},
   "outputs": [
    {
     "data": {
      "application/vnd.jupyter.widget-view+json": {
       "model_id": "16b3abdc45b34d8fa9120e3fe6cc7ff4",
       "version_major": 2,
       "version_minor": 0
      },
      "text/plain": [
       "VBox(children=(HBox(children=(VBox(children=(ImageWidget(height=256, width=256),)),)), IntSlider(value=128, de…"
      ]
     },
     "execution_count": 11,
     "metadata": {},
     "output_type": "execute_result"
    }
   ],
   "source": [
    "image1 = imread(\"../../test1.tif\")\n",
    "image2 = imread(\"../../test2.tif\")\n",
    "\n",
    "stackview.curtain(image1, image2)"
   ]
  },
  {
   "cell_type": "code",
   "execution_count": 12,
   "metadata": {},
   "outputs": [
    {
     "data": {
      "text/plain": [
       "False"
      ]
     },
     "execution_count": 12,
     "metadata": {},
     "output_type": "execute_result"
    }
   ],
   "source": [
    "cle.array_equal(image1, image2)"
   ]
  },
  {
   "cell_type": "code",
   "execution_count": 13,
   "metadata": {},
   "outputs": [
    {
     "data": {
      "application/vnd.jupyter.widget-view+json": {
       "model_id": "c99536e967634e7d865895fcc7915e9c",
       "version_major": 2,
       "version_minor": 0
      },
      "text/plain": [
       "VBox(children=(HBox(children=(VBox(children=(ImageWidget(height=256, width=256),)),)), IntSlider(value=128, de…"
      ]
     },
     "execution_count": 13,
     "metadata": {},
     "output_type": "execute_result"
    }
   ],
   "source": [
    "stackview.curtain(result_cpu, np.asarray(result_gpu))"
   ]
  },
  {
   "cell_type": "code",
   "execution_count": 14,
   "metadata": {},
   "outputs": [
    {
     "data": {
      "text/plain": [
       "True"
      ]
     },
     "execution_count": 14,
     "metadata": {},
     "output_type": "execute_result"
    }
   ],
   "source": [
    "cle.array_equal(result_cpu, result_gpu)"
   ]
  },
  {
   "cell_type": "code",
   "execution_count": 15,
   "metadata": {},
   "outputs": [
    {
     "name": "stderr",
     "output_type": "stream",
     "text": [
      "C:\\Users\\haase\\AppData\\Local\\Temp\\ipykernel_23936\\336360938.py:11: UserWarning: test1.tif is a low contrast image\n",
      "  imsave(\"test1.tif\", result_cpu)\n"
     ]
    },
    {
     "data": {
      "text/plain": [
       "True"
      ]
     },
     "execution_count": 15,
     "metadata": {},
     "output_type": "execute_result"
    }
   ],
   "source": [
    "from skimage.data import cells3d\n",
    "from skimage.segmentation import morphological_chan_vese\n",
    "import pyclesperanto_prototype as cle\n",
    "\n",
    "image2d = cells3d()[30, 0, ...]\n",
    "\n",
    "result_gpu = cle.morphological_chan_vese(image2d, num_iter=20, smoothing=10)\n",
    "result_cpu = morphological_chan_vese(image2d, num_iter=20, smoothing=10)\n",
    "\n",
    "from skimage.io import imsave\n",
    "imsave(\"test1.tif\", result_cpu)\n",
    "imsave(\"test2.tif\", result_gpu)\n",
    "\n",
    "cle.array_equal(result_cpu, result_gpu)"
   ]
  },
  {
   "cell_type": "code",
   "execution_count": 16,
   "metadata": {},
   "outputs": [
    {
     "name": "stderr",
     "output_type": "stream",
     "text": [
      "C:\\Users\\haase\\AppData\\Local\\Temp\\ipykernel_23936\\1440285567.py:11: UserWarning: test1.tif is a low contrast image\n",
      "  imsave(\"test1.tif\", result_cpu)\n"
     ]
    },
    {
     "data": {
      "text/plain": [
       "True"
      ]
     },
     "execution_count": 16,
     "metadata": {},
     "output_type": "execute_result"
    }
   ],
   "source": [
    "from skimage.data import cells3d\n",
    "from skimage.segmentation import morphological_chan_vese\n",
    "import pyclesperanto_prototype as cle\n",
    "\n",
    "image3d = cells3d()[10:50:, 0, :40, :40]\n",
    "\n",
    "result_gpu = cle.morphological_chan_vese(image3d, num_iter=20, smoothing=10)\n",
    "result_cpu = morphological_chan_vese(image3d, num_iter=20, smoothing=10)\n",
    "\n",
    "from skimage.io import imsave\n",
    "imsave(\"test1.tif\", result_cpu)\n",
    "imsave(\"test2.tif\", result_gpu)\n",
    "\n",
    "cle.array_equal(result_cpu, result_gpu)"
   ]
  },
  {
   "cell_type": "code",
   "execution_count": null,
   "metadata": {},
   "outputs": [],
   "source": []
  }
 ],
 "metadata": {
  "kernelspec": {
   "display_name": "Python 3 (ipykernel)",
   "language": "python",
   "name": "python3"
  },
  "language_info": {
   "codemirror_mode": {
    "name": "ipython",
    "version": 3
   },
   "file_extension": ".py",
   "mimetype": "text/x-python",
   "name": "python",
   "nbconvert_exporter": "python",
   "pygments_lexer": "ipython3",
   "version": "3.9.15"
  },
  "vscode": {
   "interpreter": {
    "hash": "f7e7e84a546d85c5beef5f7108b3ea7afa16a9e8e3877bd0c0d54e4df90a2b54"
   }
  }
 },
 "nbformat": 4,
 "nbformat_minor": 4
}
